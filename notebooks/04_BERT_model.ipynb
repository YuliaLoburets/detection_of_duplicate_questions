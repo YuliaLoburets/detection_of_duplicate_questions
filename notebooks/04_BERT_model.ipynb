{
  "cells": [
    {
      "cell_type": "markdown",
      "metadata": {
        "id": "qxXgTGcKtkhM"
      },
      "source": [
        "##Bert Model"
      ]
    },
    {
      "cell_type": "code",
      "source": [
        "!pip install transformers datasets evaluate torch --quiet"
      ],
      "metadata": {
        "id": "AMbZRbf7zpXT"
      },
      "execution_count": null,
      "outputs": []
    },
    {
      "cell_type": "code",
      "source": [
        "!pip install --upgrade datasets transformers accelerate numpy tokenizers"
      ],
      "metadata": {
        "id": "Y--VcrAZ07KL"
      },
      "execution_count": null,
      "outputs": []
    },
    {
      "cell_type": "code",
      "source": [
        "import pandas as pd\n",
        "import numpy as np\n",
        "import evaluate\n",
        "import torch\n",
        "from datasets import Dataset, load_dataset\n",
        "from sklearn.metrics import accuracy_score, precision_score, recall_score, f1_score\n",
        "from sklearn.model_selection import train_test_split\n",
        "from transformers import AutoTokenizer, AutoModelForSequenceClassification, TrainingArguments, Trainer\n",
        "from transformers import DataCollatorWithPadding\n",
        "from sklearn.utils import resample\n",
        "from google.colab import drive\n",
        "import os\n",
        "import joblib\n",
        "from IPython.display import Image, display\n"
      ],
      "metadata": {
        "id": "i-icEsoP52Mz"
      },
      "execution_count": null,
      "outputs": []
    },
    {
      "cell_type": "code",
      "source": [
        "drive.mount('/content/drive/')"
      ],
      "metadata": {
        "colab": {
          "base_uri": "https://localhost:8080/"
        },
        "id": "146unQr8zu5U",
        "outputId": "ab89faab-cc16-4fc8-cc19-543996ee4c49"
      },
      "execution_count": null,
      "outputs": [
        {
          "output_type": "stream",
          "name": "stdout",
          "text": [
            "Mounted at /content/drive/\n"
          ]
        }
      ]
    },
    {
      "cell_type": "code",
      "source": [
        "print(np.__version__)"
      ],
      "metadata": {
        "colab": {
          "base_uri": "https://localhost:8080/"
        },
        "id": "bCfy9pImuTxB",
        "outputId": "cc6c9942-f8c9-4a37-f6a9-e10929940d8e"
      },
      "execution_count": null,
      "outputs": [
        {
          "output_type": "stream",
          "name": "stdout",
          "text": [
            "2.3.1\n"
          ]
        }
      ]
    },
    {
      "cell_type": "code",
      "source": [
        "!pip uninstall -y transformers\n",
        "!pip install transformers==4.40.2"
      ],
      "metadata": {
        "id": "1zCzrTpe-YwP"
      },
      "execution_count": null,
      "outputs": []
    },
    {
      "cell_type": "code",
      "source": [
        "!pip install numpy==1.24.4"
      ],
      "metadata": {
        "id": "fdCGhohk985Y"
      },
      "execution_count": null,
      "outputs": []
    },
    {
      "cell_type": "code",
      "source": [
        "train = pd.read_csv('drive/MyDrive/ML/Final Project Quora/quora_question_pairs_train.csv.zip', index_col=0)\n",
        "test = pd.read_csv('drive/MyDrive/ML/Final Project Quora/quora_question_pairs_test.csv.zip', index_col=0)"
      ],
      "metadata": {
        "id": "BSAr00SJbdVi"
      },
      "execution_count": null,
      "outputs": []
    },
    {
      "cell_type": "code",
      "source": [
        "train_copy = train.dropna()\n",
        "test_copy = test.dropna()\n",
        "\n",
        "#class rebalance\n",
        "df_majority = train_copy[train_copy.is_duplicate == 0]\n",
        "df_minority = train_copy[train_copy.is_duplicate == 1]\n",
        "df_minority_upsampled = resample(df_minority, replace=True, n_samples=len(df_majority), random_state=42)\n",
        "train_balanced = pd.concat([df_majority, df_minority_upsampled])\n",
        "\n",
        "train_df, val_df = train_test_split(train_balanced, test_size=0.1, random_state=42)\n",
        "test_df = test_copy"
      ],
      "metadata": {
        "id": "5TE7QsuNZ26A"
      },
      "execution_count": null,
      "outputs": []
    },
    {
      "cell_type": "code",
      "source": [
        "model_path = \"google-bert/bert-base-uncased\"\n",
        "tokenizer = AutoTokenizer.from_pretrained(model_path)\n",
        "\n",
        "def preprocess_function(example):\n",
        "    return tokenizer(\n",
        "        example['question1'],\n",
        "        example['question2'],\n",
        "        truncation=True,\n",
        "        padding='max_length',\n",
        "        max_length=128\n",
        "    )"
      ],
      "metadata": {
        "id": "UcjCyfSDf1xw"
      },
      "execution_count": null,
      "outputs": []
    },
    {
      "cell_type": "code",
      "source": [
        "#transforn into HuggingFace Dataset\n",
        "train_dataset = Dataset.from_pandas(train_df[['question1', 'question2', 'is_duplicate']])\n",
        "val_dataset = Dataset.from_pandas(val_df[['question1', 'question2', 'is_duplicate']])\n",
        "test_dataset = Dataset.from_pandas(test_df[['question1', 'question2','is_duplicate' ]])"
      ],
      "metadata": {
        "id": "eqmL05DDf6MX"
      },
      "execution_count": null,
      "outputs": []
    },
    {
      "cell_type": "code",
      "source": [
        "#data cleaning\n",
        "train_dataset = train_dataset.remove_columns([col for col in train_dataset.column_names if col not in ['question1', 'question2', 'is_duplicate']])\n",
        "val_dataset = val_dataset.remove_columns([col for col in val_dataset.column_names if col not in ['question1', 'question2', 'is_duplicate']])\n",
        "test_dataset = test_dataset.remove_columns([col for col in test_dataset.column_names if col not in ['question1', 'question2', 'is_duplicate']])"
      ],
      "metadata": {
        "id": "0EvUh7klf9E8"
      },
      "execution_count": null,
      "outputs": []
    },
    {
      "cell_type": "code",
      "source": [
        "#tokenization\n",
        "train_dataset = train_dataset.map(preprocess_function, batched=True)\n",
        "val_dataset = val_dataset.map(preprocess_function, batched=True)\n",
        "test_dataset = test_dataset.map(preprocess_function, batched=True)"
      ],
      "metadata": {
        "id": "-izP1QRWf_b5"
      },
      "execution_count": null,
      "outputs": []
    },
    {
      "cell_type": "code",
      "source": [
        "#Rename target\n",
        "train_dataset = train_dataset.rename_column(\"is_duplicate\", \"labels\")\n",
        "val_dataset = val_dataset.rename_column(\"is_duplicate\", \"labels\")\n",
        "test_dataset = test_dataset.rename_column(\"is_duplicate\", \"labels\")\n",
        "\n",
        "#Torch format\n",
        "train_dataset.set_format(type='torch', columns=['input_ids', 'attention_mask', 'labels'])\n",
        "val_dataset.set_format(type='torch', columns=['input_ids', 'attention_mask', 'labels'])\n",
        "test_dataset.set_format(type='torch', columns=['input_ids', 'attention_mask', 'labels'])"
      ],
      "metadata": {
        "id": "mc-1lOpSgmHX"
      },
      "execution_count": null,
      "outputs": []
    },
    {
      "cell_type": "code",
      "source": [
        "#unfreeze the higher layer of the model\n",
        "id2label = {0: \"Non-duplicate\", 1: \"Duplicate\"}\n",
        "label2id = {\"Non-duplicate\": 0, \"Duplicate\": 1}\n",
        "\n",
        "model = AutoModelForSequenceClassification.from_pretrained(\n",
        "    model_path,\n",
        "    num_labels=2,\n",
        "    id2label=id2label,\n",
        "    label2id=label2id\n",
        ")\n"
      ],
      "metadata": {
        "id": "kBEtU5bEgo1e"
      },
      "execution_count": null,
      "outputs": []
    },
    {
      "cell_type": "code",
      "source": [
        "print(torch.cuda.is_available())\n",
        "print(torch.cuda.get_device_name(0))"
      ],
      "metadata": {
        "colab": {
          "base_uri": "https://localhost:8080/"
        },
        "id": "qAx2hpVbuqT-",
        "outputId": "7f060320-5825-4319-8676-4797f5828772"
      },
      "execution_count": null,
      "outputs": [
        {
          "output_type": "stream",
          "name": "stdout",
          "text": [
            "True\n",
            "Tesla T4\n"
          ]
        }
      ]
    },
    {
      "cell_type": "code",
      "source": [
        "#freeze all the layers\n",
        "for param in model.base_model.parameters():\n",
        "    param.requires_grad = False\n",
        "\n",
        "#unfreeze the encoder layer\n",
        "for param in model.base_model.encoder.layer[-1].parameters():\n",
        "    param.requires_grad = True\n",
        "\n",
        "#unfreeze pooler\n",
        "for param in model.base_model.pooler.parameters():\n",
        "    param.requires_grad = True\n",
        "\n",
        "#classifier\n",
        "for param in model.classifier.parameters():\n",
        "    param.requires_grad = True\n"
      ],
      "metadata": {
        "id": "4L0VKuc0gsj7"
      },
      "execution_count": null,
      "outputs": []
    },
    {
      "cell_type": "code",
      "source": [
        "#compute metrics\n",
        "def compute_metrics(eval_pred):\n",
        "    logits, labels = eval_pred\n",
        "    preds = np.argmax(logits, axis=1)\n",
        "    return {\n",
        "        \"accuracy\": accuracy_score(labels, preds),\n",
        "        \"precision\": precision_score(labels, preds, zero_division=0),\n",
        "        \"recall\": recall_score(labels, preds, zero_division=0),\n",
        "        \"f1\": f1_score(labels, preds, zero_division=0),\n",
        "    }"
      ],
      "metadata": {
        "id": "sUqoWeUCgu4j"
      },
      "execution_count": null,
      "outputs": []
    },
    {
      "cell_type": "code",
      "source": [
        "#training the model\n",
        "training_args = TrainingArguments(\n",
        "    output_dir=\"/content/drive/MyDrive/ML/Final Project Quora/bert-checkpoints\",\n",
        "    eval_strategy=\"epoch\",\n",
        "    save_strategy=\"epoch\",\n",
        "    learning_rate=2e-5,\n",
        "    per_device_train_batch_size=8,\n",
        "    per_device_eval_batch_size=8,\n",
        "    num_train_epochs=3,\n",
        "    weight_decay=0.01,\n",
        "    save_total_limit=2,\n",
        "    load_best_model_at_end=True,\n",
        "    report_to=\"none\",\n",
        "    logging_dir=\"/content/drive/MyDrive/ML/Final Project Quora/logs\",\n",
        "    logging_steps=1000,\n",
        ")\n"
      ],
      "metadata": {
        "id": "5edVKZA9gwtx"
      },
      "execution_count": null,
      "outputs": []
    },
    {
      "cell_type": "code",
      "source": [
        "print(torch.cuda.is_available())"
      ],
      "metadata": {
        "colab": {
          "base_uri": "https://localhost:8080/"
        },
        "id": "iGfl883dmARy",
        "outputId": "d0d07605-3100-4057-c3aa-88efea8be37d"
      },
      "execution_count": null,
      "outputs": [
        {
          "output_type": "stream",
          "name": "stdout",
          "text": [
            "True\n"
          ]
        }
      ]
    },
    {
      "cell_type": "code",
      "source": [
        "data_collator = DataCollatorWithPadding(tokenizer=tokenizer)\n",
        "\n",
        "trainer = Trainer(\n",
        "    model=model,\n",
        "    args=training_args,\n",
        "    train_dataset=train_dataset,\n",
        "    eval_dataset=val_dataset,\n",
        "    tokenizer=tokenizer,\n",
        "    data_collator=data_collator,\n",
        "    compute_metrics=compute_metrics\n",
        ")\n",
        "\n",
        "trainer.train()"
      ],
      "metadata": {
        "id": "P-s8zvFMg1ln"
      },
      "execution_count": null,
      "outputs": []
    },
    {
      "cell_type": "code",
      "source": [
        "img_path = \"/content/drive/MyDrive/ML/Final Project Quora/bert_training_1.png\"\n",
        "display(Image(img_path))"
      ],
      "metadata": {
        "colab": {
          "base_uri": "https://localhost:8080/",
          "height": 343
        },
        "id": "uEfKiyUb3bjj",
        "outputId": "77ebbea7-0891-4f7e-89b7-9df2ee75441a"
      },
      "execution_count": null,
      "outputs": [
        {
          "output_type": "display_data",
          "data": {
            "image/png": "[encoded data removed]",
            "text/plain": [
              "<IPython.core.display.Image object>"
            ]
          },
          "metadata": {}
        }
      ]
    },
    {
      "cell_type": "code",
      "source": [
        "trainer.save_model('/content/drive/MyDrive/ML/Final Project Quora/bert-checkpoints')\n",
        "tokenizer.save_pretrained('/content/drive/MyDrive/ML/Final Project Quora/bert-checkpoints')"
      ],
      "metadata": {
        "colab": {
          "base_uri": "https://localhost:8080/"
        },
        "id": "XJLjbdh-txO0",
        "outputId": "c7be2e74-ba66-4c6f-f7a1-12e0db5ba4f3"
      },
      "execution_count": null,
      "outputs": [
        {
          "output_type": "execute_result",
          "data": {
            "text/plain": [
              "('/content/drive/MyDrive/ML/Final Project Quora/bert-checkpoints/tokenizer_config.json',\n",
              " '/content/drive/MyDrive/ML/Final Project Quora/bert-checkpoints/special_tokens_map.json',\n",
              " '/content/drive/MyDrive/ML/Final Project Quora/bert-checkpoints/vocab.txt',\n",
              " '/content/drive/MyDrive/ML/Final Project Quora/bert-checkpoints/added_tokens.json',\n",
              " '/content/drive/MyDrive/ML/Final Project Quora/bert-checkpoints/tokenizer.json')"
            ]
          },
          "metadata": {},
          "execution_count": 18
        }
      ]
    },
    {
      "cell_type": "code",
      "source": [
        "test_dataset = test_dataset.map(preprocess_function, batched=True)\n",
        "#Rename target\n",
        "test_dataset = test_dataset.rename_column(\"is_duplicate\", \"labels\")\n",
        "#Torch format\n",
        "test_dataset.set_format(type='torch', columns=['input_ids', 'attention_mask', 'labels'])"
      ],
      "metadata": {
        "id": "gUNxGHyPXq1V"
      },
      "execution_count": null,
      "outputs": []
    },
    {
      "cell_type": "code",
      "source": [
        "trainer.evaluate(eval_dataset=test_dataset)"
      ],
      "metadata": {
        "id": "qi9k8KkJWnTB"
      },
      "execution_count": null,
      "outputs": []
    },
    {
      "cell_type": "code",
      "source": [
        "img_path = \"/content/drive/MyDrive/ML/Final Project Quora/bert_test.png\"\n",
        "display(Image(img_path))"
      ],
      "metadata": {
        "colab": {
          "base_uri": "https://localhost:8080/",
          "height": 192
        },
        "id": "ne5EYhem4ZrT",
        "outputId": "6ed884b9-671b-4cb4-a715-462fd7b23886"
      },
      "execution_count": null,
      "outputs": [
        {
          "output_type": "display_data",
          "data": {
            "image/png": "[encoded data removed]",
            "text/plain": [
              "<IPython.core.display.Image object>"
            ]
          },
          "metadata": {}
        }
      ]
    },
    {
      "cell_type": "code",
      "source": [
        "file_path = 'drive/MyDrive/ML/Final Project Quora/model_results.csv'\n",
        "\n",
        "if not os.path.exists(file_path):\n",
        "  res.to_csv(file_path, index=False)\n",
        "else:\n",
        "  res.to_csv(file_path, mode='a', index=False, header=False)"
      ],
      "metadata": {
        "id": "x_9ls90kfF8e"
      },
      "execution_count": null,
      "outputs": []
    }
  ],
  "metadata": {
    "accelerator": "GPU",
    "colab": {
      "gpuType": "T4",
      "machine_shape": "hm",
      "provenance": []
    },
    "kernelspec": {
      "display_name": "Python 3",
      "name": "python3"
    },
    "language_info": {
      "name": "python"
    }
  },
  "nbformat": 4,
  "nbformat_minor": 0
}
